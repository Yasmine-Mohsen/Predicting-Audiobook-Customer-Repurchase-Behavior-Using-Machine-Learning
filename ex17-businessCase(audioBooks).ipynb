{
 "cells": [
  {
   "cell_type": "markdown",
   "metadata": {},
   "source": [
    "In this case, we are given data from an audio book app. The condition to be included: Each customer in the database has made a purchase at least once. We want to create a machine learning algorithm to predict the likelihood of a customer making another purchase in the future."
   ]
  },
  {
   "cell_type": "code",
   "execution_count": 47,
   "metadata": {},
   "outputs": [],
   "source": [
    "import numpy as np \n",
    "import pandas as pd \n",
    "import tensorflow as tf\n",
    "from sklearn import preprocessing \n",
    "# we will use the sklearn capablities to standardize the inputs\n",
    "raw_csv_data=np.loadtxt(\"C:/Users/Yasmine Mohsen/Downloads/DataScienceCourse-datasets/Audiobooks_data.csv\",delimiter=',')\n",
    "unscaled_inputs_all=raw_csv_data[:,1:-1]\n",
    "targets_all=raw_csv_data[:,-1]\n"
   ]
  },
  {
   "cell_type": "markdown",
   "metadata": {},
   "source": [
    "### Preprocessing"
   ]
  },
  {
   "cell_type": "markdown",
   "metadata": {},
   "source": [
    "#### Balance the dataset \n",
    "##### First, we must balance the dataset which is done by counting the total number of target 1s and matching the same number of target 0s to them. "
   ]
  },
  {
   "cell_type": "code",
   "execution_count": 48,
   "metadata": {},
   "outputs": [],
   "source": [
    "num_one_targets=int(np.sum(targets_all))\n",
    "zero_targets_counter=0\n",
    "indices_to_remove=[]\n",
    "\n",
    "for i in range(targets_all.shape[0]):\n",
    "    if targets_all[i]==0:\n",
    "        zero_targets_counter+=1\n",
    "        if zero_targets_counter>num_one_targets:\n",
    "            indices_to_remove.append(i)\n",
    "            # the above line is to remove the zero targets that are more than the number of ones\n",
    "            \n",
    "unscaled_inputs_equal_priors=np.delete(unscaled_inputs_all,indices_to_remove,axis=  0)\n",
    "targets_equal_priors=np.delete(targets_all,indices_to_remove,axis=0)          "
   ]
  },
  {
   "cell_type": "markdown",
   "metadata": {},
   "source": [
    "#### Standardize the inputs"
   ]
  },
  {
   "cell_type": "code",
   "execution_count": 49,
   "metadata": {},
   "outputs": [],
   "source": [
    "scaled_inputs=preprocessing.scale(unscaled_inputs_equal_priors)\n",
    "# this will standardize the inputs to have zero mean and unit variance."
   ]
  },
  {
   "cell_type": "markdown",
   "metadata": {},
   "source": [
    "##### Shuffle the data"
   ]
  },
  {
   "cell_type": "code",
   "execution_count": 50,
   "metadata": {},
   "outputs": [],
   "source": [
    "# since we will be using batch gradient descent, it's important to shuffle the data.\n",
    "\n",
    "shuffled_indices=np.arange(scaled_inputs.shape[0])\n",
    "np.random.shuffle(shuffled_indices)\n",
    "\n",
    "shuffled_inputs=scaled_inputs[shuffled_indices]\n",
    "shuffled_targets=targets_equal_priors[shuffled_indices]"
   ]
  },
  {
   "cell_type": "markdown",
   "metadata": {},
   "source": [
    "#### Split the dataset into training, validating and testing"
   ]
  },
  {
   "cell_type": "code",
   "execution_count": 51,
   "metadata": {},
   "outputs": [
    {
     "name": "stdout",
     "output_type": "stream",
     "text": [
      "1777.0 3579 0.4965074043028779\n",
      "225.0 447 0.5033557046979866\n",
      "235.0 448 0.5245535714285714\n"
     ]
    }
   ],
   "source": [
    "samples_count=shuffled_inputs.shape[0]\n",
    "train_samples_count=int(0.8*samples_count)\n",
    "validation_samples_count=int(0.1*samples_count)\n",
    "test_samples_count=samples_count-train_samples_count-validation_samples_count\n",
    "\n",
    "train_inputs=shuffled_inputs[:train_samples_count]\n",
    "train_targets=shuffled_targets[:train_samples_count]\n",
    "\n",
    "validation_inputs=shuffled_inputs[train_samples_count:train_samples_count+validation_samples_count] \n",
    "validation_targets=shuffled_targets[train_samples_count:train_samples_count+validation_samples_count]\n",
    "\n",
    "test_inputs=shuffled_inputs[train_samples_count+validation_samples_count:]\n",
    "test_targets=shuffled_targets[train_samples_count+validation_samples_count:]\n",
    "\n",
    "print(np.sum(train_targets), train_samples_count, np.sum(train_targets)/train_samples_count)\n",
    "print(np.sum(validation_targets), validation_samples_count, np.sum(validation_targets)/validation_samples_count)\n",
    "print(np.sum(test_targets), test_samples_count, np.sum(test_targets)/test_samples_count)\n",
    "# training on 3579, validation on 447, and testing on 448, total= 4474 (we started with 14084)\n",
    "# all three sets are balanced (i.e., 50% of the target variable is 1)"
   ]
  },
  {
   "cell_type": "markdown",
   "metadata": {},
   "source": [
    "#### Save the three datasets for future use"
   ]
  },
  {
   "cell_type": "code",
   "execution_count": 52,
   "metadata": {},
   "outputs": [],
   "source": [
    "np.savez('Audiobooks_data_train',inputs=train_inputs,targets=train_targets)\n",
    "np.savez('Audiobooks_data_validation',inputs=validation_inputs,targets=validation_targets)\n",
    "np.savez('Audiobooks_data_test',inputs=test_inputs,targets=test_targets)"
   ]
  },
  {
   "cell_type": "markdown",
   "metadata": {},
   "source": [
    "#### Create the machine learning algorithm"
   ]
  },
  {
   "cell_type": "markdown",
   "metadata": {},
   "source": [
    "##### Data"
   ]
  },
  {
   "cell_type": "code",
   "execution_count": 53,
   "metadata": {},
   "outputs": [],
   "source": [
    "npz=np.load('Audiobooks_data_train.npz')\n",
    "\n",
    "train_inputs=npz['inputs'].astype(np.float32)\n",
    "train_targets=npz['targets'].astype(np.int64)\n",
    "\n",
    "npz=np.load('Audiobooks_data_validation.npz')\n",
    "validation_inputs,validation_targets=npz['inputs'].astype(np.float32),npz['targets'].astype(np.int64)\n",
    "\n",
    "npz=np.load('Audiobooks_data_test.npz')\n",
    "test_inputs,test_targets=npz['inputs'].astype(np.float32),npz['targets'].astype(np.int64)\n"
   ]
  },
  {
   "cell_type": "markdown",
   "metadata": {},
   "source": [
    "#### Module\n",
    "Outline, optimizers, loss, early stopping and training"
   ]
  },
  {
   "cell_type": "code",
   "execution_count": 54,
   "metadata": {},
   "outputs": [
    {
     "name": "stdout",
     "output_type": "stream",
     "text": [
      "Epoch 1/100\n"
     ]
    },
    {
     "name": "stdout",
     "output_type": "stream",
     "text": [
      "36/36 - 2s - 63ms/step - accuracy: 0.6362 - loss: 0.6374 - val_accuracy: 0.7136 - val_loss: 0.5314\n",
      "Epoch 2/100\n",
      "36/36 - 0s - 6ms/step - accuracy: 0.7538 - loss: 0.4903 - val_accuracy: 0.7830 - val_loss: 0.4413\n",
      "Epoch 3/100\n",
      "36/36 - 0s - 5ms/step - accuracy: 0.7826 - loss: 0.4327 - val_accuracy: 0.8121 - val_loss: 0.3957\n",
      "Epoch 4/100\n",
      "36/36 - 0s - 5ms/step - accuracy: 0.7888 - loss: 0.4013 - val_accuracy: 0.8098 - val_loss: 0.3745\n",
      "Epoch 5/100\n",
      "36/36 - 0s - 4ms/step - accuracy: 0.8019 - loss: 0.3829 - val_accuracy: 0.8210 - val_loss: 0.3620\n",
      "Epoch 6/100\n",
      "36/36 - 0s - 5ms/step - accuracy: 0.8036 - loss: 0.3711 - val_accuracy: 0.8233 - val_loss: 0.3515\n",
      "Epoch 7/100\n",
      "36/36 - 0s - 5ms/step - accuracy: 0.8106 - loss: 0.3605 - val_accuracy: 0.8143 - val_loss: 0.3480\n",
      "Epoch 8/100\n",
      "36/36 - 0s - 5ms/step - accuracy: 0.8080 - loss: 0.3550 - val_accuracy: 0.8166 - val_loss: 0.3416\n",
      "Epoch 9/100\n",
      "36/36 - 0s - 5ms/step - accuracy: 0.8150 - loss: 0.3491 - val_accuracy: 0.8255 - val_loss: 0.3408\n",
      "Epoch 10/100\n",
      "36/36 - 0s - 5ms/step - accuracy: 0.8189 - loss: 0.3446 - val_accuracy: 0.8322 - val_loss: 0.3364\n",
      "Epoch 11/100\n",
      "36/36 - 0s - 5ms/step - accuracy: 0.8178 - loss: 0.3405 - val_accuracy: 0.8277 - val_loss: 0.3311\n",
      "Epoch 12/100\n",
      "36/36 - 0s - 5ms/step - accuracy: 0.8187 - loss: 0.3396 - val_accuracy: 0.8277 - val_loss: 0.3374\n",
      "Epoch 13/100\n",
      "36/36 - 0s - 5ms/step - accuracy: 0.8173 - loss: 0.3365 - val_accuracy: 0.8322 - val_loss: 0.3307\n",
      "Epoch 14/100\n",
      "36/36 - 0s - 6ms/step - accuracy: 0.8203 - loss: 0.3338 - val_accuracy: 0.8277 - val_loss: 0.3272\n",
      "Epoch 15/100\n",
      "36/36 - 0s - 5ms/step - accuracy: 0.8223 - loss: 0.3326 - val_accuracy: 0.8300 - val_loss: 0.3247\n",
      "Epoch 16/100\n",
      "36/36 - 0s - 5ms/step - accuracy: 0.8226 - loss: 0.3307 - val_accuracy: 0.8322 - val_loss: 0.3279\n",
      "Epoch 17/100\n",
      "36/36 - 0s - 5ms/step - accuracy: 0.8198 - loss: 0.3323 - val_accuracy: 0.8277 - val_loss: 0.3229\n",
      "Epoch 18/100\n",
      "36/36 - 0s - 5ms/step - accuracy: 0.8229 - loss: 0.3296 - val_accuracy: 0.8255 - val_loss: 0.3282\n",
      "Epoch 19/100\n",
      "36/36 - 0s - 5ms/step - accuracy: 0.8231 - loss: 0.3273 - val_accuracy: 0.8322 - val_loss: 0.3175\n",
      "Epoch 20/100\n",
      "36/36 - 0s - 5ms/step - accuracy: 0.8270 - loss: 0.3254 - val_accuracy: 0.8233 - val_loss: 0.3315\n",
      "Epoch 21/100\n",
      "36/36 - 0s - 5ms/step - accuracy: 0.8265 - loss: 0.3248 - val_accuracy: 0.8255 - val_loss: 0.3245\n"
     ]
    },
    {
     "data": {
      "text/plain": [
       "<keras.src.callbacks.history.History at 0x24fc75c6f30>"
      ]
     },
     "execution_count": 54,
     "metadata": {},
     "output_type": "execute_result"
    }
   ],
   "source": [
    "input_size=10\n",
    "output_size=2\n",
    "hidden_layer_size=50\n",
    "\n",
    "model=tf.keras.Sequential([\n",
    "  #  tf.keras.layers.flatten(input_shape=(28,28,1)),\n",
    "  # ^ we can delete this line since we have already preprocessed our data properly\n",
    "    tf.keras.layers.Dense(hidden_layer_size, activation='relu'),\n",
    "    tf.keras.layers.Dense(hidden_layer_size, activation='relu'),\n",
    "    tf.keras.layers.Dense(output_size, activation='softmax') \n",
    "])\n",
    "\n",
    "model.compile(optimizer='adam', loss='sparse_categorical_crossentropy', metrics=['accuracy'])\n",
    "\n",
    "batch_size=100\n",
    "max_epochs=100\n",
    "\n",
    "early_stopping=tf.keras.callbacks.EarlyStopping(patience=2)\n",
    "\n",
    "model.fit(train_inputs,\n",
    "          train_targets,\n",
    "          batch_size=batch_size, \n",
    "          epochs=max_epochs, \n",
    "          callbacks=[early_stopping],  # to stop training when the validation loss stops improving\n",
    "          validation_data=(validation_inputs, validation_targets), \n",
    "          verbose=2)\n",
    "# we notice that the validation accuracy is not strictly increasing. This indicates that the model is overfitting.\n",
    "# so to prevent overfitting, we can use an early stopping callback."
   ]
  },
  {
   "cell_type": "markdown",
   "metadata": {},
   "source": [
    "#### Test the model"
   ]
  },
  {
   "cell_type": "code",
   "execution_count": 55,
   "metadata": {},
   "outputs": [
    {
     "name": "stdout",
     "output_type": "stream",
     "text": [
      "\u001b[1m14/14\u001b[0m \u001b[32m━━━━━━━━━━━━━━━━━━━━\u001b[0m\u001b[37m\u001b[0m \u001b[1m0s\u001b[0m 3ms/step - accuracy: 0.7665 - loss: 0.3703  \n"
     ]
    }
   ],
   "source": [
    "test_loss, test_accuracy=model.evaluate(test_inputs, test_targets)"
   ]
  },
  {
   "cell_type": "code",
   "execution_count": 56,
   "metadata": {},
   "outputs": [
    {
     "name": "stdout",
     "output_type": "stream",
     "text": [
      "Test loss: 0.33, Test accuracy: 80.13%\n"
     ]
    }
   ],
   "source": [
    "print('Test loss: {0:.2f}, Test accuracy: {1:.2f}%'.format(test_loss, test_accuracy*100))"
   ]
  },
  {
   "cell_type": "code",
   "execution_count": null,
   "metadata": {},
   "outputs": [],
   "source": []
  }
 ],
 "metadata": {
  "kernelspec": {
   "display_name": "Python 3",
   "language": "python",
   "name": "python3"
  },
  "language_info": {
   "codemirror_mode": {
    "name": "ipython",
    "version": 3
   },
   "file_extension": ".py",
   "mimetype": "text/x-python",
   "name": "python",
   "nbconvert_exporter": "python",
   "pygments_lexer": "ipython3",
   "version": "3.12.4"
  }
 },
 "nbformat": 4,
 "nbformat_minor": 2
}
